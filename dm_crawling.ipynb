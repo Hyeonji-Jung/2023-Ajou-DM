{
  "nbformat": 4,
  "nbformat_minor": 0,
  "metadata": {
    "colab": {
      "provenance": []
    },
    "kernelspec": {
      "name": "python3",
      "display_name": "Python 3"
    },
    "language_info": {
      "name": "python"
    }
  },
  "cells": [
    {
      "cell_type": "code",
      "execution_count": null,
      "metadata": {
        "id": "ChhH43rJaLHm"
      },
      "outputs": [],
      "source": [
        "import os, sys\n",
        "from google.colab import drive\n",
        "drive.mount('/content/drive')"
      ]
    },
    {
      "cell_type": "code",
      "source": [
        "!pip install selenium\n",
        "!pip install webdriver_manager\n",
        "!apt-get update\n",
        "!apt install chromium-chromedriver\n",
        "!cp /usr/lib/chromium-browser/chromedriver /usr/bin"
      ],
      "metadata": {
        "id": "m8iEyAlualY4"
      },
      "execution_count": null,
      "outputs": []
    },
    {
      "cell_type": "code",
      "source": [
        "from selenium.webdriver.common.by import By\n",
        "from urllib3.util.retry import Retry\n",
        "from requests.adapters import HTTPAdapter\n",
        "from openpyxl import Workbook\n",
        "from bs4 import BeautifulSoup\n",
        "from selenium import webdriver\n",
        "from webdriver_manager.chrome import ChromeDriverManager\n",
        "from selenium.webdriver.common.keys import Keys\n",
        "import time\n",
        "import datetime\n",
        "import requests\n",
        "import traceback"
      ],
      "metadata": {
        "id": "6DXB93DPboFM"
      },
      "execution_count": null,
      "outputs": []
    },
    {
      "cell_type": "code",
      "source": [
        "options = webdriver.ChromeOptions()\n",
        "options.add_argument('--headless')\n",
        "options.add_argument('--no-sandbox')\n",
        "options.add_argument('--disable-dev-shm-usage')\n",
        "driver = webdriver.Chrome(options=options)"
      ],
      "metadata": {
        "id": "8JGB70BgdKL4"
      },
      "execution_count": null,
      "outputs": []
    },
    {
      "cell_type": "code",
      "source": [
        "session = requests.Session()\n",
        "headers = {\n",
        "    \"User-Agent\": \"user value\"}\n",
        "\n",
        "retries = Retry(total=5,\n",
        "                backoff_factor=0.1,\n",
        "                status_forcelist=[500, 502, 503, 504])\n",
        "\n",
        "session.mount('http://', HTTPAdapter(max_retries=retries))"
      ],
      "metadata": {
        "id": "DGj1e6FynBEU"
      },
      "execution_count": null,
      "outputs": []
    },
    {
      "cell_type": "code",
      "source": [
        "# Maps 장소 ID를 통해 크롤링\n",
        "# kakao place IDs\n",
        "places = [\"1140972979\", \"810636715\", \"1621874658\", \"18783705\", \"1497915448\", \"1879186093\",\n",
        "          \"963022709\", \"592472562\", \"12009254\", \"1512705135\", \"1353342342\"]"
      ],
      "metadata": {
        "id": "fn7DmDrGA6Ai"
      },
      "execution_count": null,
      "outputs": []
    },
    {
      "cell_type": "code",
      "source": [
        "# kakao\n",
        "for place in places:\n",
        "    url = 'https://place.map.kakao.com/'+place\n",
        "    try:\n",
        "        now = datetime.datetime.now()\n",
        "        xlsx = Workbook()\n",
        "        list_sheet = xlsx.create_sheet('output')\n",
        "        list_sheet.append(['nickname', 'content', 'date', 'star'])\n",
        "\n",
        "        res = driver.get(url)\n",
        "        driver.implicitly_wait(30)\n",
        "\n",
        "        driver.find_element(By.TAG_NAME, 'body').send_keys(Keys.PAGE_DOWN)\n",
        "\n",
        "        try:\n",
        "            while True:\n",
        "                elem = driver.find_element(By.CSS_SELECTOR, '#mArticle > div.cont_evaluation > div.evaluation_review > a')\n",
        "                if 'link_unfold' in elem.get_attribute('class'):\n",
        "                    print('finish')\n",
        "                    break\n",
        "                else:\n",
        "                    elem.click()\n",
        "                    time.sleep(0.4)\n",
        "        except Exception as e:\n",
        "            print(e)\n",
        "\n",
        "        time.sleep(25)\n",
        "        html = driver.page_source\n",
        "        bs = BeautifulSoup(html, 'lxml')\n",
        "        reviews = bs.select('#mArticle > div.cont_evaluation > div.evaluation_review > ul > li')\n",
        "\n",
        "        for r in reviews:\n",
        "            nickname = r.select('div.unit_info > a')\n",
        "            content = r.select('div.comment_info > p > span')\n",
        "            date = r.select('div.unit_info > span.time_write')\n",
        "\n",
        "            star_span = r.select_one('div.star_info > div > span > span')\n",
        "            star = int(star_span.get('style').split(':')[1].strip().split(\"%;\")[0]) // 20\n",
        "\n",
        "            # exception handling\n",
        "            nickname = nickname[0].text if nickname else ''\n",
        "            content = content[0].text if content else ''\n",
        "            date = date[0].text if date else ''\n",
        "            time.sleep(0.06)\n",
        "\n",
        "            list_sheet.append([nickname, content, date, star])\n",
        "            time.sleep(0.06)\n",
        "        # 크롤링 결과 파일로 저장\n",
        "        file_name = 'kakao_review_' + place + \"_\" + now.strftime('%Y-%m-%d_%H-%M-%S') + '.xlsx'\n",
        "        xlsx.save(file_name)\n",
        "        print(file_name)\n",
        "\n",
        "    except Exception as e:\n",
        "        print(traceback.format_exc())\n",
        "        # 에러 발생 시 temp 파일 저장\n",
        "        file_name = 'kakao_review_' + place + \"_\" + now.strftime('%Y-%m-%d_%H-%M-%S') + '.xlsx'\n",
        "        xlsx.save(file_name)"
      ],
      "metadata": {
        "id": "GVCnsoSRVDj_"
      },
      "execution_count": null,
      "outputs": []
    },
    {
      "cell_type": "code",
      "source": [
        "# naver place IDs\n",
        "places = [\"1307938559\", \"1501864632\", \"1825537456\", \"30811729\", \"38762477\", \"1356864288\", \"1903382169\", \"1202531417\",\n",
        "          \"1655931682\", \"1051363994\", \"20050482\", \"33109015\", \"1278462966\", \"32839677\",\n",
        "          \"34818294\", \"33860261\", \"20145002\", \"1655063202\", \"38463465\", \"1097784516\"]"
      ],
      "metadata": {
        "id": "AxKOUqw9BBld"
      },
      "execution_count": null,
      "outputs": []
    },
    {
      "cell_type": "code",
      "source": [
        "# naver\n",
        "for place in places:\n",
        "    url = 'https://m.place.naver.com/restaurant/'+place+'/review/visitor?entry=ple&reviewSort=recent'\n",
        "    try:\n",
        "        now = datetime.datetime.now()\n",
        "        xlsx = Workbook()\n",
        "        list_sheet = xlsx.create_sheet('output')\n",
        "        list_sheet.append(['nickname', 'content', 'date', 'revisit'])\n",
        "\n",
        "        res = driver.get(url)\n",
        "        driver.implicitly_wait(30)\n",
        "\n",
        "        driver.find_element(By.TAG_NAME, 'body').send_keys(Keys.PAGE_DOWN)\n",
        "\n",
        "        try:\n",
        "            while True:\n",
        "                driver.find_element(By.XPATH, '//*[@id=\"app-root\"]/div/div/div/div[6]/div[2]/div[3]/div[2]/div/a').click()\n",
        "                time.sleep(0.4)\n",
        "        except Exception as e:\n",
        "            print('finish')\n",
        "\n",
        "        time.sleep(25)\n",
        "        html = driver.page_source\n",
        "        bs = BeautifulSoup(html, 'lxml')\n",
        "        reviews = bs.select('li.YeINN')\n",
        "\n",
        "        for r in reviews:\n",
        "            nickname = r.select('div.SdWYt>a.QAxJb>div.VYGLG')\n",
        "            content = r.select('div.ZZ4OK.IwhtZ>a>span')\n",
        "            date = r.select('div.qM6I7>div>div._7kR3e>span:nth-child(1)>time')\n",
        "            revisit = r.select('div.qM6I7>div>div._7kR3e>span:nth-child(2)')\n",
        "\n",
        "            # exception handling\n",
        "            nickname = nickname[0].text if nickname else ''\n",
        "            content = content[0].text if content else ''\n",
        "            date = date[0].text if date else ''\n",
        "            revisit = revisit[0].text if revisit else ''\n",
        "            time.sleep(0.06)\n",
        "\n",
        "            list_sheet.append([nickname, content, date, revisit])\n",
        "            time.sleep(0.06)\n",
        "        # 크롤링 결과 파일로 저장\n",
        "        file_name = 'naver_review_' + place + \"_\" + now.strftime('%Y-%m-%d_%H-%M-%S') + '.xlsx'\n",
        "        xlsx.save(file_name)\n",
        "        print(file_name)\n",
        "\n",
        "    except Exception as e:\n",
        "        print(traceback.format_exc())\n",
        "        # 에러 발생 시 temp 파일 저장\n",
        "        file_name = 'naver_review_' + place + \"_\" + now.strftime('%Y-%m-%d_%H-%M-%S') + '.xlsx'\n",
        "        xlsx.save(file_name)"
      ],
      "metadata": {
        "id": "yEioRy4_f7gJ"
      },
      "execution_count": null,
      "outputs": []
    }
  ]
}